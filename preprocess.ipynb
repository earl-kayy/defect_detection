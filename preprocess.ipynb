{
 "cells": [
  {
   "cell_type": "code",
   "execution_count": 4,
   "id": "73240569",
   "metadata": {},
   "outputs": [],
   "source": [
    "import matplotlib.pyplot as plt\n",
    "import numpy as np\n",
    "import pandas as pd\n",
    "import seaborn as sns\n",
    "\n",
    "from scipy.stats import chi2_contingency"
   ]
  },
  {
   "cell_type": "markdown",
   "id": "019838c0",
   "metadata": {},
   "source": [
    "# Load Dataset"
   ]
  },
  {
   "cell_type": "code",
   "execution_count": 23,
   "id": "1bdaf553",
   "metadata": {},
   "outputs": [],
   "source": [
    "df_eda = pd.read_csv('train.csv', encoding = 'utf-8')"
   ]
  },
  {
   "cell_type": "markdown",
   "id": "7f73894c",
   "metadata": {},
   "source": [
    "# Preprocess : primary *\n",
    "    - Drop the columns that are not needed : 'index'\n",
    "    - Extract new values from the existing columns : 'origin' value from 'Num'\n",
    "    - clip outliers to lower/upper bound\n",
    "    - handle missing values"
   ]
  },
  {
   "cell_type": "markdown",
   "id": "0a70cf39",
   "metadata": {},
   "source": [
    "##### Drop 'index'\n",
    "- Each product has a unique value"
   ]
  },
  {
   "cell_type": "code",
   "execution_count": 24,
   "id": "1b2960bf-8eb4-4ddf-b9bd-e42a089b48c9",
   "metadata": {},
   "outputs": [
    {
     "data": {
      "text/plain": [
       "index\n",
       "2        1\n",
       "33065    1\n",
       "33012    1\n",
       "33030    1\n",
       "33037    1\n",
       "        ..\n",
       "16538    1\n",
       "16544    1\n",
       "16555    1\n",
       "16559    1\n",
       "49997    1\n",
       "Name: count, Length: 10000, dtype: int64"
      ]
     },
     "execution_count": 24,
     "metadata": {},
     "output_type": "execute_result"
    }
   ],
   "source": [
    "df_eda['index'].value_counts()"
   ]
  },
  {
   "cell_type": "code",
   "execution_count": 6,
   "id": "735d58c6",
   "metadata": {},
   "outputs": [],
   "source": [
    "df_eda = df_eda.drop('index', axis = 1)"
   ]
  },
  {
   "cell_type": "markdown",
   "id": "0fc35c1b",
   "metadata": {},
   "source": [
    "##### Extract 'origin' info from 'Num'\n",
    "- Each product has a unique value\n",
    "- Each 'Num' is composed of 'Date' + place of 'origin' and some series of numbers\n",
    "- 'Date' value is already in the column 'Date'\n",
    "- series of numbers seem to be the serial number of the product\n",
    "- Create a new column 'origin' which contains a value, place of origin"
   ]
  },
  {
   "cell_type": "code",
   "execution_count": 7,
   "id": "81f4d792",
   "metadata": {},
   "outputs": [],
   "source": [
    "df_eda['origin'] = df_eda['Num'].str[8:10]\n",
    "label_column = df_eda.pop('label')\n",
    "df_eda['label'] = label_column\n",
    "\n",
    "df_eda = df_eda.drop('Num', axis = 1)"
   ]
  },
  {
   "cell_type": "markdown",
   "id": "ba80cd1f",
   "metadata": {},
   "source": [
    "##### Clip outliers"
   ]
  },
  {
   "cell_type": "code",
   "execution_count": 8,
   "id": "1a6ed8fa",
   "metadata": {},
   "outputs": [],
   "source": [
    "columns_to_check = ['ingr_B', 'ingr_C']\n",
    "\n",
    "for column in columns_to_check:\n",
    "    Q1 = df_eda[column].quantile(0.25)\n",
    "    Q3 = df_eda[column].quantile(0.75)\n",
    "    IQR = Q3 - Q1\n",
    "    \n",
    "    lower_bound = Q1 - 1.5*IQR\n",
    "    upper_bound = Q3 + 1.5*IQR\n",
    "    \n",
    "    df_eda[column] = df_eda[column].clip(lower=lower_bound, upper=upper_bound)"
   ]
  },
  {
   "cell_type": "code",
   "execution_count": 9,
   "id": "3182144c",
   "metadata": {},
   "outputs": [
    {
     "name": "stdout",
     "output_type": "stream",
     "text": [
      "Number of outliers in ingr_A: 0\n",
      "Number of outliers in ingr_B: 0\n",
      "Number of outliers in ingr_C: 0\n",
      "Number of outliers in gram: 0\n"
     ]
    }
   ],
   "source": [
    "# Numeric Columns\n",
    "columns_to_check = ['ingr_A', 'ingr_B', 'ingr_C', 'gram']\n",
    "\n",
    "# Check for outliers per column\n",
    "for column in columns_to_check:\n",
    "    Q1 = df_eda[column].quantile(0.25)\n",
    "    Q3 = df_eda[column].quantile(0.75)\n",
    "    IQR = Q3 - Q1\n",
    "\n",
    "    lower_bound = Q1 - 1.5 * IQR\n",
    "    upper_bound = Q3 + 1.5 * IQR\n",
    "\n",
    "    outliers = df_eda[(df_eda[column] < lower_bound) | (df_eda[column] > upper_bound)]\n",
    "    print(f\"Number of outliers in {column}: {outliers.shape[0]}\")\n",
    "    if outliers.shape[0] > 0:\n",
    "        print(f\"Outliers in {column}:\")\n",
    "        print(outliers)\n"
   ]
  },
  {
   "cell_type": "code",
   "execution_count": 10,
   "id": "702e0cae",
   "metadata": {},
   "outputs": [
    {
     "data": {
      "text/html": [
       "<div>\n",
       "<style scoped>\n",
       "    .dataframe tbody tr th:only-of-type {\n",
       "        vertical-align: middle;\n",
       "    }\n",
       "\n",
       "    .dataframe tbody tr th {\n",
       "        vertical-align: top;\n",
       "    }\n",
       "\n",
       "    .dataframe thead th {\n",
       "        text-align: right;\n",
       "    }\n",
       "</style>\n",
       "<table border=\"1\" class=\"dataframe\">\n",
       "  <thead>\n",
       "    <tr style=\"text-align: right;\">\n",
       "      <th></th>\n",
       "      <th>prod</th>\n",
       "      <th>insp</th>\n",
       "      <th>date</th>\n",
       "      <th>buydate</th>\n",
       "      <th>ingr_A</th>\n",
       "      <th>ingr_B</th>\n",
       "      <th>ingr_C</th>\n",
       "      <th>wtcd</th>\n",
       "      <th>gram</th>\n",
       "      <th>origin</th>\n",
       "      <th>label</th>\n",
       "    </tr>\n",
       "  </thead>\n",
       "  <tbody>\n",
       "  </tbody>\n",
       "</table>\n",
       "</div>"
      ],
      "text/plain": [
       "Empty DataFrame\n",
       "Columns: [prod, insp, date, buydate, ingr_A, ingr_B, ingr_C, wtcd, gram, origin, label]\n",
       "Index: []"
      ]
     },
     "execution_count": 10,
     "metadata": {},
     "output_type": "execute_result"
    }
   ],
   "source": [
    "invalid_rows = df_eda[df_eda['ingr_A'] + df_eda['ingr_B'] + df_eda['ingr_C'] > df_eda['gram']]\n",
    "\n",
    "invalid_rows"
   ]
  },
  {
   "cell_type": "markdown",
   "id": "92dba792",
   "metadata": {},
   "source": [
    "##### Handling Missing Values in 'wtcd'"
   ]
  },
  {
   "cell_type": "markdown",
   "id": "28207a24",
   "metadata": {},
   "source": [
    "- To decide how to deal with missing values in 'wtcd', search if there are any relations with other columns\n",
    "- Search Methods\n",
    "    - Crammer's V : relation between 2 categorical values\n",
    "    - plot to find out if the change of values in wtcd effects numeric values"
   ]
  },
  {
   "cell_type": "markdown",
   "id": "5b9cc3cb",
   "metadata": {},
   "source": [
    "###### 'wtcd' → 'prod', 'insp', 'origin', 'label' (Categorical Values)"
   ]
  },
  {
   "cell_type": "code",
   "execution_count": 11,
   "id": "3a537c3e",
   "metadata": {},
   "outputs": [],
   "source": [
    "def cramers_v(x, y):\n",
    "    contingency_table = pd.crosstab(x, y)\n",
    "    chi2, _, _, _ = chi2_contingency(contingency_table)\n",
    "    n = contingency_table.sum().sum()\n",
    "    phi2 = chi2 / n\n",
    "    r, k = contingency_table.shape\n",
    "    phi2corr = max(0, phi2 - ((k-1)*(r-1))/(n-1))\n",
    "    r_corr = r - ((r-1)**2)/(n-1)\n",
    "    k_corr = k - ((k-1)**2)/(n-1)\n",
    "    return np.sqrt(phi2corr / min((k_corr-1), (r_corr-1)))"
   ]
  },
  {
   "cell_type": "code",
   "execution_count": 12,
   "id": "0059a804",
   "metadata": {},
   "outputs": [
    {
     "name": "stdout",
     "output_type": "stream",
     "text": [
      "Cramer's V between wtcd and prod: 0.0\n",
      "Cramer's V between wtcd and insp: 0.38511896494222914\n",
      "Cramer's V between wtcd and origin: 0.016614772617886624\n",
      "Cramer's V between wtcd and label: 0.08332453344514486\n"
     ]
    }
   ],
   "source": [
    "# column1\n",
    "column1 = 'wtcd'\n",
    "\n",
    "# column2 \n",
    "columns_to_check = ['prod', 'insp', 'origin', 'label']\n",
    "\n",
    "# 각 컬럼과 wtcd 간의 크래머의 V 계산\n",
    "for column2 in columns_to_check:\n",
    "    v = cramers_v(df_eda[column1], df_eda[column2])\n",
    "    print(f\"Cramer's V between {column1} and {column2}: {v}\")\n"
   ]
  },
  {
   "cell_type": "markdown",
   "id": "959e6ff4",
   "metadata": {},
   "source": [
    "###### 'wtcd' → 'date', 'buydate'"
   ]
  },
  {
   "cell_type": "code",
   "execution_count": 13,
   "id": "1bb0db01",
   "metadata": {},
   "outputs": [],
   "source": [
    "# For 'Month' values\n",
    "temp = df_eda.copy()\n",
    "temp['date'] = temp['date'].str[5:7]\n",
    "temp['buydate'] = temp['buydate'].str[5:7]"
   ]
  },
  {
   "cell_type": "code",
   "execution_count": 14,
   "id": "917e5cf0",
   "metadata": {},
   "outputs": [
    {
     "name": "stdout",
     "output_type": "stream",
     "text": [
      "Cramer's V between wtcd and date: 0.012561045327338234\n",
      "Cramer's V between wtcd and buydate: 0.0\n"
     ]
    }
   ],
   "source": [
    "column1 = 'wtcd'\n",
    "\n",
    "columns_to_check = ['date', 'buydate']\n",
    "\n",
    "for column2 in columns_to_check:\n",
    "    v = cramers_v(temp[column1], temp[column2])\n",
    "    print(f\"Cramer's V between {column1} and {column2}: {v}\")"
   ]
  },
  {
   "cell_type": "code",
   "execution_count": 15,
   "id": "245cd9f6",
   "metadata": {},
   "outputs": [],
   "source": [
    "# For 'Season' values\n",
    "def map_season(month):\n",
    "    if month in ['03', '04', '05']:\n",
    "        return 'Spring'\n",
    "    elif month in ['06', '07', '08']:\n",
    "        return 'Summer'\n",
    "    elif month in ['09', '10', '11']:\n",
    "        return 'Fall'\n",
    "    else:  # '12', '01', '02'\n",
    "        return 'Winter'\n",
    "    \n",
    "temp['season_bd'] = temp['buydate'].apply(map_season)\n",
    "temp['season_d'] = temp['date'].apply(map_season)"
   ]
  },
  {
   "cell_type": "code",
   "execution_count": 16,
   "id": "af8ee23a",
   "metadata": {},
   "outputs": [
    {
     "name": "stdout",
     "output_type": "stream",
     "text": [
      "Cramer's V between wtcd and season_bd: 0.0\n",
      "Cramer's V between wtcd and season_d: 0.0\n"
     ]
    }
   ],
   "source": [
    "column1 = 'wtcd'\n",
    "\n",
    "columns_to_check = ['season_bd', 'season_d']\n",
    "\n",
    "for column2 in columns_to_check:\n",
    "    v = cramers_v(temp[column1], temp[column2])\n",
    "    print(f\"Cramer's V between {column1} and {column2}: {v}\")"
   ]
  },
  {
   "cell_type": "markdown",
   "id": "9ff03915",
   "metadata": {},
   "source": [
    "###### 'wtcd' → 'ingr_A', 'ingr_B', 'ingr_C', 'gram'"
   ]
  },
  {
   "cell_type": "code",
   "execution_count": 17,
   "id": "ff97a328",
   "metadata": {},
   "outputs": [
    {
     "data": {
      "image/png": "[encoded data removed]",
      "text/plain": [
       "<Figure size 1000x600 with 4 Axes>"
      ]
     },
     "metadata": {},
     "output_type": "display_data"
    }
   ],
   "source": [
    "plt.figure(figsize=(10, 6))\n",
    "\n",
    "# ingr_A\n",
    "plt.subplot(2, 2, 1)\n",
    "sns.boxplot(x='wtcd', y='ingr_A', data=df_eda)\n",
    "plt.title('Boxplot of ingr_A by wtcd')\n",
    "\n",
    "# ingr_B\n",
    "plt.subplot(2, 2, 2)\n",
    "sns.boxplot(x='wtcd', y='ingr_B', data=df_eda)\n",
    "plt.title('Boxplot of ingr_B by wtcd')\n",
    "\n",
    "# ingr_C\n",
    "plt.subplot(2, 2, 3)\n",
    "sns.boxplot(x='wtcd', y='ingr_C', data=df_eda)\n",
    "plt.title('Boxplot of ingr_C by wtcd')\n",
    "\n",
    "# gram\n",
    "plt.subplot(2, 2, 4)\n",
    "sns.boxplot(x='wtcd', y='gram', data=df_eda)\n",
    "plt.title('Boxplot of gram by wtcd')\n",
    "\n",
    "plt.tight_layout()\n",
    "plt.show()"
   ]
  },
  {
   "cell_type": "markdown",
   "id": "ca7d14d3",
   "metadata": {},
   "source": [
    "##### Since we checked the column 'wtcd' doesn't really affect other row directly, we can just remove the missing values"
   ]
  },
  {
   "cell_type": "code",
   "execution_count": 18,
   "id": "2b537b9c",
   "metadata": {},
   "outputs": [],
   "source": [
    "df_eda = df_eda.dropna(subset = ['wtcd'])"
   ]
  },
  {
   "cell_type": "code",
   "execution_count": 19,
   "id": "7dc12ad3",
   "metadata": {},
   "outputs": [
    {
     "data": {
      "text/plain": [
       "(9989, 11)"
      ]
     },
     "execution_count": 19,
     "metadata": {},
     "output_type": "execute_result"
    }
   ],
   "source": [
    "df_eda.shape"
   ]
  },
  {
   "cell_type": "markdown",
   "id": "7fe40c72",
   "metadata": {},
   "source": [
    "# Preprocess : secondary *\n",
    "    - add column : the ratio of ingr_A/B/C\n",
    "    - add column : the extra ingr besides A, B and C\n",
    "    - add column : the ratio of ingr_extra"
   ]
  },
  {
   "cell_type": "code",
   "execution_count": 20,
   "id": "ce20ea2a",
   "metadata": {},
   "outputs": [],
   "source": [
    "# Add column 'A_P', 'B_P', 'C_P' (ingr_A/gram, ingr_B/gram, ingr_C/gram)\n",
    "df_eda['A_P'] = df_eda['ingr_A'] / df_eda['gram']\n",
    "df_eda['B_P'] = df_eda['ingr_B'] / df_eda['gram']\n",
    "df_eda['C_P'] = df_eda['ingr_C'] / df_eda['gram']\n",
    "\n",
    "# Add column ingr_extra(ingredient besides A, B and C)\n",
    "df_eda['ingr_extra'] = df_eda['gram'] - (df_eda['ingr_A'] + df_eda['ingr_B'] + df_eda['ingr_C'])\n",
    "\n",
    "# Add column 'extra_P' (ingr_extra/gram)\n",
    "df_eda['extra_P'] = df_eda['ingr_extra']/df_eda['gram']"
   ]
  },
  {
   "cell_type": "markdown",
   "id": "cf7e005e",
   "metadata": {},
   "source": [
    "    - add column : 'duration' (buydate - date)\n",
    "    - add column : the month of the 'date'\n",
    "    - add column : the month of the 'buydate'\n",
    "    - add column : 'season' of the 'buydate'\n",
    "    - add column : 'year' of the 'buydate'"
   ]
  },
  {
   "cell_type": "code",
   "execution_count": 21,
   "id": "8125f450",
   "metadata": {},
   "outputs": [],
   "source": [
    "# Change the values into date type\n",
    "df_eda['date'] = pd.to_datetime(df_eda['date'])\n",
    "df_eda['buydate'] = pd.to_datetime(df_eda['buydate'])\n",
    "\n",
    "# difference between 'buydate' and 'date'\n",
    "df_eda['duration'] = (df_eda['buydate'] - df_eda['date']).dt.days\n",
    "\n",
    "# month of the 'date', 'buydate'.\n",
    "df_eda['date_month'] = df_eda['date'].dt.month\n",
    "df_eda['buydate_month'] = df_eda['buydate'].dt.month\n",
    "\n",
    "# season of 'buydate'\n",
    "seasons = {1: 'Winter', 2: 'Winter', 3: 'Spring', 4: 'Spring', 5: 'Spring',\n",
    "           6: 'Summer', 7: 'Summer', 8: 'Summer', 9: 'Fall', 10: 'Fall', 11: 'Fall', 12: 'Winter'}\n",
    "df_eda['buydate_season'] = df_eda['buydate'].dt.month.map(seasons)\n",
    "\n",
    "# year of 'buydate'\n",
    "df_eda['buydate_year'] = df_eda['buydate'].dt.year"
   ]
  },
  {
   "cell_type": "markdown",
   "id": "30ac5caf",
   "metadata": {},
   "source": [
    "# Preprocessed dataframe\n",
    "    - Used for eda later on"
   ]
  },
  {
   "cell_type": "code",
   "execution_count": 22,
   "id": "f22a51e5",
   "metadata": {},
   "outputs": [],
   "source": [
    "df_eda.to_csv('df_eda.csv', index = False)"
   ]
  }
 ],
 "metadata": {
  "kernelspec": {
   "display_name": "Python 3 (ipykernel)",
   "language": "python",
   "name": "python3"
  },
  "language_info": {
   "codemirror_mode": {
    "name": "ipython",
    "version": 3
   },
   "file_extension": ".py",
   "mimetype": "text/x-python",
   "name": "python",
   "nbconvert_exporter": "python",
   "pygments_lexer": "ipython3",
   "version": "3.9.20"
  }
 },
 "nbformat": 4,
 "nbformat_minor": 5
}
